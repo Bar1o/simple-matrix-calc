{
  "nbformat": 4,
  "nbformat_minor": 0,
  "metadata": {
    "colab": {
      "provenance": []
    },
    "kernelspec": {
      "name": "python3",
      "display_name": "Python 3"
    },
    "language_info": {
      "name": "python"
    }
  },
  "cells": [
    {
      "cell_type": "markdown",
      "source": [
        "В коде реализован симметричный алгоритм Гаусса. Цель — быстрая проверка правильности шагов диагонализации матрицы билинейной формы и поиск матрицы перехода от исходного базиса к базису, в котором матрица имеет диагональный вид. Алгоритм преполагает, что пользователь:\n",
        "- использует операции только с целыми числами\n",
        "- знает, что умножение на ноль делает любой алгоритм бессмысленным.\n",
        "\n",
        "В силу:\n",
        "- $\\beta$ — билинейная форма, $B$ — матрица билинейной формы\n",
        "- $\\mathbb{e}' = \\mathbb{e}C$\n",
        "- $B' = C^TBC$\n",
        "\n",
        "Тогда $(B|E) \\rightarrow (D|C)$, где C — матрица преобразований, к которой применены только элементарные преобразования (ЭП) столбцов, а D — диагональная матрица, к которой применялись ЭП и строк, и столбцов. Получаем, что C — искомая матрица перехода в новому базису."
      ],
      "metadata": {
        "id": "ngjJ_xgMrTeT"
      }
    },
    {
      "cell_type": "markdown",
      "source": [
        "ЭП — элем. преобразование строк и столбцов (всего 3 типа).\n",
        "\n",
        "Список команд ЭП:\n",
        "- ```<1> <i> <j> <coeff>``` — к i-й строке прибавляется j-я строка, умноженная на coeff (то же происходит одновременно и со столбцов, так как это симметричная операция)\n",
        "- `<2> <i> <j>` — меняются местами i-я и j-я строки\n",
        "-`<3> <i> <coeff>` — i-я строка умножается на ненулевой coeff\n",
        "\n",
        "Другие команды:\n",
        "- `<0>` — остановить ввод команд\n",
        "- `<4> <1>` — отменить последнюю команду, возвращает предыдущий вид матрицы\n",
        "- `<4> <2>` — показать все шаги по преобразованию матриц"
      ],
      "metadata": {
        "id": "8HcR5igrvRhr"
      }
    },
    {
      "cell_type": "code",
      "execution_count": 95,
      "metadata": {
        "id": "uLX8XgsyP0F0"
      },
      "outputs": [],
      "source": [
        "import numpy as np\n",
        "from copy import deepcopy"
      ]
    },
    {
      "cell_type": "code",
      "source": [
        "def showMM(to_show:list, do = True):\n",
        "    a = ['step', 'A', 'E']\n",
        "    if do:\n",
        "        for i in range(3):\n",
        "            print(f\"{a[i]} = {to_show[i]}\")\n"
      ],
      "metadata": {
        "id": "B6hbcCBpfHFA"
      },
      "execution_count": 118,
      "outputs": []
    },
    {
      "cell_type": "code",
      "source": [
        "def restoreMatrix(all_steps:list, *arg, pr = True):\n",
        "    \"\"\"параметр pr отвечает за вывод матриц\"\"\"\n",
        "    if arg[0] == 'undo':\n",
        "        # вернуть и вывести предпосл шаг\n",
        "        all_steps.pop()\n",
        "        print('undo last step')\n",
        "        showMM(all_steps[-1], pr)\n",
        "        return all_steps[-1]\n",
        "    elif arg[0] == 'steps':\n",
        "        # получить все шаги\n",
        "        if pr == True:\n",
        "            c = 0\n",
        "            for step in all_steps:\n",
        "                c+=1\n",
        "                print(f\"{c}:{step[0]}\", end=' ')\n",
        "            print()\n",
        "        return [step[0] for step in all_steps]\n",
        "\n",
        "# all_steps = [([2, 1, 2], np.array([[2, 1, 3],[1, 0, 1],[3, 1, 4]]), np.array([[0, 1, 0], [1, 0, 0],[0, 0, 1]])),\n",
        "#              ([3, 2, 2], np.array([[2, 2, 3],[2, 0, 2],[3, 2, 4]]), np.array([[0, 2, 0], [1, 0, 0],[0, 0, 1]]))]\n",
        "\n",
        ""
      ],
      "metadata": {
        "id": "1ye_8IOvUkZJ"
      },
      "execution_count": 119,
      "outputs": []
    },
    {
      "cell_type": "code",
      "source": [
        "\"\"\"Сюда введите нужную Вам матрицу A:\"\"\"\n",
        "A = np.array([[0, 1, 1],\n",
        "              [1, 2, 3],\n",
        "              [1, 3, 4]], dtype = float)\n",
        "\n",
        "all_steps=[]\n",
        "def algo(A, pr=True):\n",
        "    \"\"\"\n",
        "    матрица A — к ней будут применяться преобразования,\n",
        "    матрица E — матрица преобразований,\n",
        "    pr — параметр, который задает вывод промежуточных шагов\n",
        "    \"\"\"\n",
        "    E = np.eye(A.shape[0])\n",
        "    while True:\n",
        "        try:\n",
        "            step = list(map(int, input().split()))\n",
        "        except ValueError as e:\n",
        "            raise e(\"Некорректный ввод значений. Попробуйте ввести значения через пробел\")\n",
        "        except TypeError as e:\n",
        "            raise e(\"Некорректный ввод типа. Используйте целые числа\")\n",
        "        if step[0] == 0:\n",
        "            print('results: A, E')\n",
        "            print(A)\n",
        "            print(E)\n",
        "            break\n",
        "        if step[0] == 1:\n",
        "            str1 = step[1]-1\n",
        "            str2 = step[2]-1\n",
        "            k = step[3]\n",
        "            A[str1] = A[str1]+A[str2]*k\n",
        "            A[:, str1] = A[:, str1] + A[:, str2]*k\n",
        "            E[:, str1] = E[:, str1] + E[:, str2]*k\n",
        "        elif step[0] == 2:\n",
        "            str1 = step[1]-1\n",
        "            str2 = step[2]-1\n",
        "            temp_str = A[str1].copy()\n",
        "            A[str1]=A[str2]\n",
        "            A[str2] = temp_str\n",
        "            temp_str = A[:, str1].copy()\n",
        "            A[:, str1]=A[:, str2]\n",
        "            A[:, str2]= temp_str\n",
        "            temp_str = E[:, str1].copy()\n",
        "            E[:, str1] = E[:, str2]\n",
        "            E[:, str2] = temp_str\n",
        "        elif step[0] == 3:\n",
        "            str1 = step[1]-1\n",
        "            k = step[2]\n",
        "            A[str1] = A[str1]*k\n",
        "            A[:, str1]=A[:, str1]*k\n",
        "            E[:, str1] = E[:, str1]*k\n",
        "        if step[0] != 0 and step[0]!=4:\n",
        "            all_steps.append((step, np.array(A, copy=True), np.array(E, copy=True)))\n",
        "            if pr == True:\n",
        "                # if step[0]==1:\n",
        "                #     print(f\"Э_{step[0]}({step[1]}, {step[2]}, {step[3]})\")\n",
        "                # else:\n",
        "                #     print(f\"Э_{step[0]}({step[1]}, {step[2]})\")\n",
        "                print(A)\n",
        "                print(E)\n",
        "        if step[0] == 4:\n",
        "            # to restore matrix (undo) or see last steps\n",
        "            my_dict = {1: 'undo', 2: 'steps'}\n",
        "            restored = restoreMatrix(all_steps, my_dict[step[1]])\n",
        "            if step[1] == 1:\n",
        "                A, E = restored[1].copy(), restored[2].copy()\n",
        "\n",
        "\n",
        "algo(A)\n",
        "\n"
      ],
      "metadata": {
        "colab": {
          "base_uri": "https://localhost:8080/"
        },
        "id": "7RzD6zLOSOV-",
        "outputId": "d1eafdbf-6521-4362-8465-2538b8729b04"
      },
      "execution_count": 138,
      "outputs": [
        {
          "output_type": "stream",
          "name": "stdout",
          "text": [
            "0\n",
            "results: A, E\n",
            "[[0. 1. 1.]\n",
            " [1. 2. 3.]\n",
            " [1. 3. 4.]]\n",
            "[[1. 0. 0.]\n",
            " [0. 1. 0.]\n",
            " [0. 0. 1.]]\n"
          ]
        }
      ]
    }
  ]
}